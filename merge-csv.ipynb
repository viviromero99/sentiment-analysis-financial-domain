{
 "cells": [
  {
   "cell_type": "code",
   "execution_count": 1,
   "id": "f949a78f-6af5-4bcd-bd82-2cdf844335c9",
   "metadata": {
    "tags": []
   },
   "outputs": [],
   "source": [
    "import pandas as pd"
   ]
  },
  {
   "cell_type": "code",
   "execution_count": 70,
   "id": "81752792-7731-4416-a02c-65f0a40957f3",
   "metadata": {
    "tags": []
   },
   "outputs": [],
   "source": [
    "# Read the files into two dataframes.\n",
    "df1 = pd.read_csv('ML-ESG-2_English_Testset_formatted_responses_pos_neg_investor_with_label_0_1_2_3_4_5_6_7_8.csv')\n",
    "df2 = pd.read_csv('ML-ESG-2_English_Testset_formatted_responses_pos_neg_investor_with_label_9.csv')"
   ]
  },
  {
   "cell_type": "code",
   "execution_count": 71,
   "id": "f1b26414-7bfb-40ae-a2a8-a14107cddc6e",
   "metadata": {
    "tags": []
   },
   "outputs": [],
   "source": [
    "\n",
    "# Append \"_1\" to the columns in df1, except for the 'text' and 'label' columns\n",
    "#df1.columns = [col + '_0' if col not in ['text', 'label'] else col for col in df1.columns]\n",
    "\n",
    "# Append \"_2\" to the columns in df2, except for the 'text' and 'label' columns\n",
    "df2.columns = [col + '_9' if col not in ['text', 'label'] else col for col in df2.columns]"
   ]
  },
  {
   "cell_type": "code",
   "execution_count": 72,
   "id": "1d60ed1a-0127-41ef-8ba4-a510959cc188",
   "metadata": {
    "tags": []
   },
   "outputs": [],
   "source": [
    "\n",
    "# Merge the two dataframes, using the 'text' and 'label' columns as the key\n",
    "df3 = pd.merge(df1, df2, on=['text', 'label'])\n",
    "\n",
    "# Optionally, you can set the index to ['text', 'label']\n",
    "df3.set_index(['text', 'label'], inplace=True)"
   ]
  },
  {
   "cell_type": "code",
   "execution_count": 73,
   "id": "b3dc57f9-f894-4434-87ce-501a710b4ca6",
   "metadata": {
    "tags": []
   },
   "outputs": [],
   "source": [
    "# Write it to a new CSV file\n",
    "df3.to_csv('ML-ESG-2_English_Testset_formatted_responses_pos_neg_investor_with_label_all.csv')"
   ]
  },
  {
   "cell_type": "code",
   "execution_count": null,
   "id": "801825ec-4236-4112-b257-965e0da528e7",
   "metadata": {},
   "outputs": [],
   "source": []
  }
 ],
 "metadata": {
  "environment": {
   "kernel": "conda-base-py",
   "name": "workbench-notebooks.m120",
   "type": "gcloud",
   "uri": "us-docker.pkg.dev/deeplearning-platform-release/gcr.io/workbench-notebooks:m120"
  },
  "kernelspec": {
   "display_name": "Python 3 (ipykernel) (Local)",
   "language": "python",
   "name": "conda-base-py"
  },
  "language_info": {
   "codemirror_mode": {
    "name": "ipython",
    "version": 3
   },
   "file_extension": ".py",
   "mimetype": "text/x-python",
   "name": "python",
   "nbconvert_exporter": "python",
   "pygments_lexer": "ipython3",
   "version": "3.10.14"
  }
 },
 "nbformat": 4,
 "nbformat_minor": 5
}
