{
 "cells": [
  {
   "cell_type": "code",
   "execution_count": 1,
   "metadata": {
    "tags": []
   },
   "outputs": [],
   "source": [
    "import vertexai\n",
    "from vertexai.generative_models import GenerativeModel, Part, FinishReason\n",
    "import vertexai.preview.generative_models as generative_models\n",
    "import os\n",
    "import json\n",
    "import pandas as pd"
   ]
  },
  {
   "cell_type": "code",
   "execution_count": 2,
   "metadata": {
    "tags": []
   },
   "outputs": [],
   "source": [
    "\n",
    "with open('prompts.json', encoding='utf-8') as arq:\n",
    "        prompts = json.load(arq)\n",
    "\n",
    "prompt_string = prompts[\"prompts\"][\"prompt_positive_negative_investor_en\"]"
   ]
  },
  {
   "cell_type": "code",
   "execution_count": 3,
   "metadata": {
    "tags": []
   },
   "outputs": [],
   "source": [
    "dataset = pd.read_csv('ML-ESG-2_English_Train_formatted.csv')\n",
    "dataset_to_classify = dataset['text'].tolist()"
   ]
  },
  {
   "cell_type": "code",
   "execution_count": 4,
   "metadata": {
    "tags": []
   },
   "outputs": [],
   "source": [
    "def batches(lista, tamanho_lote):\n",
    "    for i in range(0, len(lista), tamanho_lote):\n",
    "        yield lista[i:i + tamanho_lote]"
   ]
  },
  {
   "cell_type": "code",
   "execution_count": 5,
   "metadata": {
    "tags": []
   },
   "outputs": [],
   "source": [
    "safety_settings = {\n",
    "    generative_models.HarmCategory.HARM_CATEGORY_HATE_SPEECH: generative_models.HarmBlockThreshold.BLOCK_ONLY_HIGH,\n",
    "    generative_models.HarmCategory.HARM_CATEGORY_DANGEROUS_CONTENT: generative_models.HarmBlockThreshold.BLOCK_ONLY_HIGH,\n",
    "    generative_models.HarmCategory.HARM_CATEGORY_SEXUALLY_EXPLICIT: generative_models.HarmBlockThreshold.BLOCK_ONLY_HIGH,\n",
    "    generative_models.HarmCategory.HARM_CATEGORY_HARASSMENT: generative_models.HarmBlockThreshold.BLOCK_ONLY_HIGH,\n",
    "}\n",
    "\n",
    "generation_config = {\n",
    "    \"max_output_tokens\": 20,\n",
    "    \"temperature\": 0,\n",
    "    \"top_p\": 0.95,\n",
    "}\n",
    "\n",
    "def generate(prompt_instance):\n",
    "  vertexai.init(project=\"aida-412720\", location=\"us-central1\")\n",
    "  model = GenerativeModel(\"gemini-1.0-pro\")\n",
    "  responses = model.generate_content(\n",
    "      [prompt_instance],\n",
    "      generation_config=generation_config,\n",
    "      safety_settings=safety_settings,\n",
    "      stream=True,\n",
    "  )\n",
    "  response_string = \"\"\n",
    "  for response in responses:\n",
    "    response_string = response_string + response.text\n",
    "    \n",
    "  return response_string"
   ]
  },
  {
   "cell_type": "code",
   "execution_count": 6,
   "metadata": {
    "tags": []
   },
   "outputs": [
    {
     "name": "stdout",
     "output_type": "stream",
     "text": [
      "Act as an investor in the financial market. You are interested in staying informed about the market when making investment choices. Classify the sentiment of the following headline as either 'Positive' or 'Negative': The company also announced the appointment of tim wong as its new chief product officer. joining from finbourne technology, where he oversaw product development for investment and portfolio management software, wong also holds several years of experience in product management and strategy consulting at companies including amazon, capco, mckinsey and pwc.\n",
      "## Positive \n",
      "\n",
      "**Reasons:**\n",
      "\n",
      "* **New Chief Product Officer:** The appointment of a new\n"
     ]
    }
   ],
   "source": [
    "\n",
    "prompt_instance = prompt_string + dataset_to_classify[1]\n",
    "respons = generate(prompt_instance)\n",
    "print(prompt_instance)\n",
    "print(respons)"
   ]
  },
  {
   "cell_type": "code",
   "execution_count": 7,
   "metadata": {},
   "outputs": [],
   "source": [
    "resultSetNumber = 0"
   ]
  },
  {
   "cell_type": "code",
   "execution_count": 8,
   "metadata": {
    "tags": []
   },
   "outputs": [
    {
     "name": "stdout",
     "output_type": "stream",
     "text": [
      "batch number  1\n",
      "batch number  2\n",
      "batch number  3\n",
      "batch number  4\n",
      "batch number  5\n",
      "batch number  6\n",
      "batch number  7\n",
      "batch number  8\n",
      "batch number  9\n"
     ]
    }
   ],
   "source": [
    "all_responses = []\n",
    "i=1\n",
    "for batch in batches(dataset_to_classify, 100):\n",
    "    for item in batch:\n",
    "        prompt_instance = prompt_string + item\n",
    "        resp = generate(prompt_instance)\n",
    "        all_responses.append(resp)\n",
    "        \n",
    "    print(\"batch number \", i)\n",
    "    i+=1\n",
    "    "
   ]
  },
  {
   "cell_type": "code",
   "execution_count": 9,
   "metadata": {
    "tags": []
   },
   "outputs": [],
   "source": [
    "df_predictions = pd.DataFrame({\n",
    "    \"text\": dataset['text'].tolist(),\n",
    "    \"label\": dataset['label'].tolist(),\n",
    "    'response': all_responses,\n",
    "\n",
    "})\n",
    "\n",
    "df_predictions.to_csv('ML-ESG-2_English_Train_formatted_responses_pos_neg_investor_' + str(resultSetNumber) +'.csv', index=False)"
   ]
  },
  {
   "cell_type": "code",
   "execution_count": 10,
   "metadata": {
    "tags": []
   },
   "outputs": [],
   "source": [
    "def detect_sentiment_word(text):\n",
    "    text_lower = text.lower()\n",
    "    if \"positive\" in text_lower:\n",
    "        return \"positive\"\n",
    "    elif \"negative\" in text_lower:\n",
    "        return \"negative\"\n",
    "    else:\n",
    "        return \"undetermined\" "
   ]
  },
  {
   "cell_type": "code",
   "execution_count": 11,
   "metadata": {
    "tags": []
   },
   "outputs": [],
   "source": [
    "responses_label = []\n",
    "\n",
    "for response in all_responses:\n",
    "    resp_label = detect_sentiment_word(response)\n",
    "    responses_label.append(resp_label)"
   ]
  },
  {
   "cell_type": "code",
   "execution_count": 12,
   "metadata": {},
   "outputs": [],
   "source": [
    "df_predictions_label = pd.DataFrame({\n",
    "    \"text\": dataset['text'].tolist(),\n",
    "    \"label\": dataset['label'].tolist(),\n",
    "    'response': all_responses,\n",
    "    'responseLabel': responses_label,\n",
    "\n",
    "})\n",
    "\n",
    "df_predictions_label.to_csv('ML-ESG-2_English_Train_formatted_responses_pos_neg_investor_with_label_' + str(resultSetNumber) +'.csv', index=False)"
   ]
  },
  {
   "cell_type": "code",
   "execution_count": 13,
   "metadata": {},
   "outputs": [
    {
     "data": {
      "text/html": [
       "<div>\n",
       "<style scoped>\n",
       "    .dataframe tbody tr th:only-of-type {\n",
       "        vertical-align: middle;\n",
       "    }\n",
       "\n",
       "    .dataframe tbody tr th {\n",
       "        vertical-align: top;\n",
       "    }\n",
       "\n",
       "    .dataframe thead th {\n",
       "        text-align: right;\n",
       "    }\n",
       "</style>\n",
       "<table border=\"1\" class=\"dataframe\">\n",
       "  <thead>\n",
       "    <tr style=\"text-align: right;\">\n",
       "      <th></th>\n",
       "      <th>col_0</th>\n",
       "      <th>count</th>\n",
       "    </tr>\n",
       "    <tr>\n",
       "      <th>label</th>\n",
       "      <th>responseLabel</th>\n",
       "      <th></th>\n",
       "    </tr>\n",
       "  </thead>\n",
       "  <tbody>\n",
       "    <tr>\n",
       "      <th rowspan=\"3\" valign=\"top\">Opportunity</th>\n",
       "      <th>negative</th>\n",
       "      <td>20</td>\n",
       "    </tr>\n",
       "    <tr>\n",
       "      <th>positive</th>\n",
       "      <td>667</td>\n",
       "    </tr>\n",
       "    <tr>\n",
       "      <th>undetermined</th>\n",
       "      <td>7</td>\n",
       "    </tr>\n",
       "    <tr>\n",
       "      <th rowspan=\"3\" valign=\"top\">Risk</th>\n",
       "      <th>negative</th>\n",
       "      <td>96</td>\n",
       "    </tr>\n",
       "    <tr>\n",
       "      <th>positive</th>\n",
       "      <td>16</td>\n",
       "    </tr>\n",
       "    <tr>\n",
       "      <th>undetermined</th>\n",
       "      <td>2</td>\n",
       "    </tr>\n",
       "  </tbody>\n",
       "</table>\n",
       "</div>"
      ],
      "text/plain": [
       "col_0                      count\n",
       "label       responseLabel       \n",
       "Opportunity negative          20\n",
       "            positive         667\n",
       "            undetermined       7\n",
       "Risk        negative          96\n",
       "            positive          16\n",
       "            undetermined       2"
      ]
     },
     "execution_count": 13,
     "metadata": {},
     "output_type": "execute_result"
    }
   ],
   "source": [
    "\n",
    "responses = pd.read_csv('ML-ESG-2_English_Train_formatted_responses_pos_neg_investor_with_label_' + str(resultSetNumber) +'.csv')\n",
    "\n",
    "frequency_matrix = pd.crosstab(index=[responses['label'], responses['responseLabel']], columns='count')\n",
    "\n",
    "frequency_matrix"
   ]
  },
  {
   "cell_type": "code",
   "execution_count": null,
   "metadata": {
    "tags": []
   },
   "outputs": [],
   "source": [
    "\n",
    "responses = pd.read_csv('ML-ESG-2_English_Train_formatted_responses_pos_neg_investors_with_label_all.csv')"
   ]
  },
  {
   "cell_type": "code",
   "execution_count": null,
   "metadata": {
    "tags": []
   },
   "outputs": [],
   "source": [
    "\n",
    "frequency_matrix_default = pd.crosstab(index=[responses['label'], responses['responseLabel_1']], columns='default')\n",
    "\n",
    "frequency_matrix_default"
   ]
  },
  {
   "cell_type": "code",
   "execution_count": null,
   "metadata": {
    "tags": []
   },
   "outputs": [],
   "source": [
    "\n",
    "frequency_matrix_conservative = pd.crosstab(index=[responses['label'], responses['responseLabel_conservative']], columns='conservative')\n",
    "\n",
    "frequency_matrix_conservative\n"
   ]
  },
  {
   "cell_type": "code",
   "execution_count": null,
   "metadata": {
    "tags": []
   },
   "outputs": [],
   "source": [
    "\n",
    "frequency_matrix_moderate = pd.crosstab(index=[responses['label'], responses['responseLabel_moderate']], columns='moderate')\n",
    "\n",
    "frequency_matrix_moderate"
   ]
  },
  {
   "cell_type": "code",
   "execution_count": null,
   "metadata": {
    "tags": []
   },
   "outputs": [],
   "source": [
    "\n",
    "frequency_matrix_aggressive = pd.crosstab(index=[responses['label'], responses['responseLabel_aggressive']], columns='aggressive')\n",
    "\n",
    "frequency_matrix_aggressive"
   ]
  },
  {
   "cell_type": "code",
   "execution_count": null,
   "metadata": {},
   "outputs": [],
   "source": []
  }
 ],
 "metadata": {
  "environment": {
   "kernel": "conda-base-py",
   "name": "workbench-notebooks.m120",
   "type": "gcloud",
   "uri": "us-docker.pkg.dev/deeplearning-platform-release/gcr.io/workbench-notebooks:m120"
  },
  "kernelspec": {
   "display_name": "Python 3 (ipykernel) (Local)",
   "language": "python",
   "name": "conda-base-py"
  },
  "language_info": {
   "codemirror_mode": {
    "name": "ipython",
    "version": 3
   },
   "file_extension": ".py",
   "mimetype": "text/x-python",
   "name": "python",
   "nbconvert_exporter": "python",
   "pygments_lexer": "ipython3",
   "version": "3.10.14"
  }
 },
 "nbformat": 4,
 "nbformat_minor": 4
}
