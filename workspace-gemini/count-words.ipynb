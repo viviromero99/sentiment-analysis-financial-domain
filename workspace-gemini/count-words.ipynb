{
 "cells": [
  {
   "cell_type": "code",
   "execution_count": null,
   "id": "f949a78f-6af5-4bcd-bd82-2cdf844335c9",
   "metadata": {
    "tags": []
   },
   "outputs": [],
   "source": [
    "import pandas as pd\n",
    "import numpy as np"
   ]
  },
  {
   "cell_type": "code",
   "execution_count": 70,
   "id": "81752792-7731-4416-a02c-65f0a40957f3",
   "metadata": {
    "tags": []
   },
   "outputs": [],
   "source": [
    "# Read the files into two dataframes.\n",
    "train = pd.read_csv('ML-ESG-2_English_Train_formatted.csv')\n",
    "test = pd.read_csv('ML-ESG-2_English_Testset_formatted.csv')"
   ]
  },
  {
   "cell_type": "code",
   "execution_count": 71,
   "id": "f1b26414-7bfb-40ae-a2a8-a14107cddc6e",
   "metadata": {
    "tags": []
   },
   "outputs": [],
   "source": [
    "train['Avg_words'] = train[\"text\"].apply(lambda x: np.mean(len(x.split())))\n",
    "test['Avg_words'] = train[\"text\"].apply(lambda x: np.mean(len(x.split())))"
   ]
  }
 ],
 "metadata": {
  "environment": {
   "kernel": "conda-base-py",
   "name": "workbench-notebooks.m120",
   "type": "gcloud",
   "uri": "us-docker.pkg.dev/deeplearning-platform-release/gcr.io/workbench-notebooks:m120"
  },
  "kernelspec": {
   "display_name": "Python 3 (ipykernel) (Local)",
   "language": "python",
   "name": "conda-base-py"
  },
  "language_info": {
   "codemirror_mode": {
    "name": "ipython",
    "version": 3
   },
   "file_extension": ".py",
   "mimetype": "text/x-python",
   "name": "python",
   "nbconvert_exporter": "python",
   "pygments_lexer": "ipython3",
   "version": "3.10.14"
  }
 },
 "nbformat": 4,
 "nbformat_minor": 5
}
