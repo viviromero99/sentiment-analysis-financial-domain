{
  "cells": [
    {
      "cell_type": "code",
      "execution_count": 2,
      "id": "PP3TcDHbCO7e",
      "metadata": {
        "colab": {
          "base_uri": "https://localhost:8080/"
        },
        "id": "PP3TcDHbCO7e",
        "outputId": "8360afd7-8bd5-4b51-abbe-3c8f5e3ec720"
      },
      "outputs": [
        {
          "name": "stdout",
          "output_type": "stream",
          "text": [
            "Collecting krippendorff\n",
            "  Downloading krippendorff-0.8.0-py3-none-any.whl.metadata (2.8 kB)\n",
            "Requirement already satisfied: numpy>=1.21 in /usr/local/lib/python3.10/dist-packages (from krippendorff) (1.26.4)\n",
            "Downloading krippendorff-0.8.0-py3-none-any.whl (18 kB)\n",
            "Installing collected packages: krippendorff\n",
            "Successfully installed krippendorff-0.8.0\n"
          ]
        }
      ],
      "source": [
        "pip install krippendorff"
      ]
    },
    {
      "cell_type": "code",
      "execution_count": 3,
      "id": "f949a78f-6af5-4bcd-bd82-2cdf844335c9",
      "metadata": {
        "id": "f949a78f-6af5-4bcd-bd82-2cdf844335c9",
        "tags": [],
        "trusted": true
      },
      "outputs": [],
      "source": [
        "import pandas as pd\n",
        "import numpy as np\n",
        "import krippendorff"
      ]
    },
    {
      "cell_type": "code",
      "execution_count": 35,
      "id": "81752792-7731-4416-a02c-65f0a40957f3",
      "metadata": {
        "id": "81752792-7731-4416-a02c-65f0a40957f3",
        "tags": [],
        "trusted": true
      },
      "outputs": [],
      "source": [
        "df = pd.read_csv('ML-ESG-2_English_responses_pos_neg_investor_moderate_with_label_all_media.csv')"
      ]
    },
    {
      "cell_type": "code",
      "execution_count": 36,
      "id": "42054708-33b0-4850-bf9a-0807c9b21cab",
      "metadata": {
        "id": "42054708-33b0-4850-bf9a-0807c9b21cab",
        "trusted": true
      },
      "outputs": [],
      "source": [
        "df = df.drop(columns=['text','label','responseLabel_media'])"
      ]
    },
    {
      "cell_type": "code",
      "execution_count": 37,
      "id": "f1b26414-7bfb-40ae-a2a8-a14107cddc6e",
      "metadata": {
        "colab": {
          "base_uri": "https://localhost:8080/"
        },
        "id": "f1b26414-7bfb-40ae-a2a8-a14107cddc6e",
        "outputId": "ebd680fc-37aa-4d90-b15f-4b5aa3d9b2dd",
        "tags": [],
        "trusted": true
      },
      "outputs": [
        {
          "name": "stderr",
          "output_type": "stream",
          "text": [
            "<ipython-input-37-2537c5125385>:2: FutureWarning: Downcasting behavior in `replace` is deprecated and will be removed in a future version. To retain the old behavior, explicitly call `result.infer_objects(copy=False)`. To opt-in to the future behavior, set `pd.set_option('future.no_silent_downcasting', True)`\n",
            "  data = df.replace({'positive': 1, 'negative': 0, 'undetermined': np.nan})\n"
          ]
        }
      ],
      "source": [
        "# Codificar os rótulos categóricos como valores numéricos\n",
        "data = df.replace({'positive': 1, 'negative': 0, 'undetermined': np.nan})"
      ]
    },
    {
      "cell_type": "code",
      "execution_count": 38,
      "id": "EwpKNtFyDRPb",
      "metadata": {
        "id": "EwpKNtFyDRPb"
      },
      "outputs": [],
      "source": [
        "# Convertendo o DataFrame para uma matriz NumPy\n",
        "data_matrix = data.to_numpy()\n",
        "\n",
        "# Transpor a matriz para o formato esperado: avaliadores em linhas, instâncias do conjunto de dados em colunas\n",
        "data_transposed = data_matrix.T "
      ]
    },
    {
      "cell_type": "code",
      "execution_count": 39,
      "id": "IkPQY83rC45p",
      "metadata": {
        "colab": {
          "base_uri": "https://localhost:8080/"
        },
        "id": "IkPQY83rC45p",
        "outputId": "9a89e249-bacb-439f-f66f-3daf2b69fa94"
      },
      "outputs": [
        {
          "name": "stdout",
          "output_type": "stream",
          "text": [
            "Krippendorff's α: 0.9407557930472031\n"
          ]
        }
      ],
      "source": [
        "# Calculando o Krippendorff's α para dados nominais\n",
        "alpha = krippendorff.alpha(reliability_data=data_transposed, level_of_measurement='nominal')\n",
        "print(f\"Krippendorff's α: {alpha}\")"
      ]
    },
    {
      "cell_type": "code",
      "execution_count": 40,
      "id": "8aed0da2-39d2-452a-a3f6-ea20998cbf8c",
      "metadata": {
        "colab": {
          "base_uri": "https://localhost:8080/"
        },
        "id": "8aed0da2-39d2-452a-a3f6-ea20998cbf8c",
        "outputId": "a03e40f6-d1ed-4db1-c093-f4c5c2b8dc11",
        "trusted": true
      },
      "outputs": [
        {
          "name": "stderr",
          "output_type": "stream",
          "text": [
            "<ipython-input-40-f317511840f3>:1: FutureWarning: Downcasting behavior in `replace` is deprecated and will be removed in a future version. To retain the old behavior, explicitly call `result.infer_objects(copy=False)`. To opt-in to the future behavior, set `pd.set_option('future.no_silent_downcasting', True)`\n",
            "  data_encoded_to_csv = df.replace({'positive': 1, 'negative': 0, 'undetermined': None}).fillna(-1).astype(int)\n"
          ]
        }
      ],
      "source": [
        "data_encoded_to_csv = df.replace({'positive': 1, 'negative': 0, 'undetermined': None}).fillna(-1).astype(int)\n",
        "data_encoded_to_csv.to_csv('krippendorff_alpha_moderado.csv', index=False)"
      ]
    }
  ],
  "metadata": {
    "colab": {
      "provenance": []
    },
    "environment": {
      "kernel": "conda-base-py",
      "name": "workbench-notebooks.m120",
      "type": "gcloud",
      "uri": "us-docker.pkg.dev/deeplearning-platform-release/gcr.io/workbench-notebooks:m120"
    },
    "kernelspec": {
      "display_name": "Python (Pyodide)",
      "language": "python",
      "name": "python"
    },
    "language_info": {
      "codemirror_mode": {
        "name": "python",
        "version": 3
      },
      "file_extension": ".py",
      "mimetype": "text/x-python",
      "name": "python",
      "nbconvert_exporter": "python",
      "pygments_lexer": "ipython3",
      "version": "3.8"
    }
  },
  "nbformat": 4,
  "nbformat_minor": 5
}
