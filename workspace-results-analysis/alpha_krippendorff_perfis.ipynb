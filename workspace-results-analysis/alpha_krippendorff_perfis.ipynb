{
  "cells": [
    {
      "cell_type": "code",
      "execution_count": 1,
      "id": "PP3TcDHbCO7e",
      "metadata": {
        "colab": {
          "base_uri": "https://localhost:8080/"
        },
        "id": "PP3TcDHbCO7e",
        "outputId": "55ace15a-167f-40ba-d2d6-a0c8c7513545"
      },
      "outputs": [
        {
          "name": "stdout",
          "output_type": "stream",
          "text": [
            "Collecting krippendorff\n",
            "  Downloading krippendorff-0.8.0-py3-none-any.whl.metadata (2.8 kB)\n",
            "Requirement already satisfied: numpy>=1.21 in /usr/local/lib/python3.10/dist-packages (from krippendorff) (1.26.4)\n",
            "Downloading krippendorff-0.8.0-py3-none-any.whl (18 kB)\n",
            "Installing collected packages: krippendorff\n",
            "Successfully installed krippendorff-0.8.0\n"
          ]
        }
      ],
      "source": [
        "pip install krippendorff"
      ]
    },
    {
      "cell_type": "code",
      "execution_count": null,
      "id": "f949a78f-6af5-4bcd-bd82-2cdf844335c9",
      "metadata": {
        "id": "f949a78f-6af5-4bcd-bd82-2cdf844335c9",
        "tags": [],
        "trusted": true
      },
      "outputs": [],
      "source": [
        "import pandas as pd\n",
        "import numpy as np\n",
        "import krippendorff"
      ]
    },
    {
      "cell_type": "code",
      "execution_count": null,
      "id": "6Z9PmDevq8Z8",
      "metadata": {
        "id": "6Z9PmDevq8Z8"
      },
      "outputs": [],
      "source": [
        "df_generico = pd.read_csv('ML-ESG-2_English_responses_pos_neg_investor_with_label_all_media.csv')\n",
        "df_conservador = pd.read_csv('ML-ESG-2_English_responses_pos_neg_investor_conservative_with_label_all_media.csv')\n",
        "df_moderado = pd.read_csv('ML-ESG-2_English_responses_pos_neg_investor_moderate_with_label_all_media.csv')\n",
        "df_arrojado = pd.read_csv('ML-ESG-2_English_responses_pos_neg_investor_aggressive_with_label_all_media.csv')"
      ]
    },
    {
      "cell_type": "code",
      "execution_count": null,
      "id": "42054708-33b0-4850-bf9a-0807c9b21cab",
      "metadata": {
        "id": "42054708-33b0-4850-bf9a-0807c9b21cab",
        "trusted": true
      },
      "outputs": [],
      "source": [
        "df_generico = df_generico.drop(columns=['text','label','responseLabel_media'])\n",
        "df_conservador = df_conservador.drop(columns=['text','label','responseLabel_media'])\n",
        "df_moderado = df_moderado.drop(columns=['text','label','responseLabel_media'])\n",
        "df_arrojado = df_arrojado.drop(columns=['text','label','responseLabel_media'])"
      ]
    },
    {
      "cell_type": "code",
      "execution_count": null,
      "id": "f1b26414-7bfb-40ae-a2a8-a14107cddc6e",
      "metadata": {
        "colab": {
          "base_uri": "https://localhost:8080/"
        },
        "id": "f1b26414-7bfb-40ae-a2a8-a14107cddc6e",
        "outputId": "decd28ef-53f7-4248-be69-62f532c4401a",
        "tags": [],
        "trusted": true
      },
      "outputs": [
        {
          "name": "stderr",
          "output_type": "stream",
          "text": [
            "<ipython-input-50-2614f8819934>:2: FutureWarning: Downcasting behavior in `replace` is deprecated and will be removed in a future version. To retain the old behavior, explicitly call `result.infer_objects(copy=False)`. To opt-in to the future behavior, set `pd.set_option('future.no_silent_downcasting', True)`\n",
            "  data_generico = df_generico.replace({'positive': 1, 'negative': 0, 'undetermined': np.nan})\n",
            "<ipython-input-50-2614f8819934>:3: FutureWarning: Downcasting behavior in `replace` is deprecated and will be removed in a future version. To retain the old behavior, explicitly call `result.infer_objects(copy=False)`. To opt-in to the future behavior, set `pd.set_option('future.no_silent_downcasting', True)`\n",
            "  data_conservador = df_conservador.replace({'positive': 1, 'negative': 0, 'undetermined': np.nan})\n",
            "<ipython-input-50-2614f8819934>:4: FutureWarning: Downcasting behavior in `replace` is deprecated and will be removed in a future version. To retain the old behavior, explicitly call `result.infer_objects(copy=False)`. To opt-in to the future behavior, set `pd.set_option('future.no_silent_downcasting', True)`\n",
            "  data_moderado = df_moderado.replace({'positive': 1, 'negative': 0, 'undetermined': np.nan})\n",
            "<ipython-input-50-2614f8819934>:5: FutureWarning: Downcasting behavior in `replace` is deprecated and will be removed in a future version. To retain the old behavior, explicitly call `result.infer_objects(copy=False)`. To opt-in to the future behavior, set `pd.set_option('future.no_silent_downcasting', True)`\n",
            "  data_arrojado = df_arrojado.replace({'positive': 1, 'negative': 0, 'undetermined': np.nan})\n"
          ]
        }
      ],
      "source": [
        "data_generico = df_generico.replace({'positive': 1, 'negative': 0, 'undetermined': np.nan})\n",
        "data_conservador = df_conservador.replace({'positive': 1, 'negative': 0, 'undetermined': np.nan})\n",
        "data_moderado = df_moderado.replace({'positive': 1, 'negative': 0, 'undetermined': np.nan})\n",
        "data_arrojado = df_arrojado.replace({'positive': 1, 'negative': 0, 'undetermined': np.nan})"
      ]
    },
    {
      "cell_type": "code",
      "execution_count": null,
      "id": "EwpKNtFyDRPb",
      "metadata": {
        "id": "EwpKNtFyDRPb"
      },
      "outputs": [],
      "source": [
        "# Convertendo o DataFrame para uma matriz NumPy\n",
        "data_matrix_generico = data_generico.to_numpy()\n",
        "data_matrix_conservador= data_conservador.to_numpy()\n",
        "data_matrix_moderado = data_moderado.to_numpy()\n",
        "data_matrix_arrojado = data_arrojado.to_numpy()\n",
        "\n",
        "\n",
        "# Transpor a matriz para o formato esperado: avaliadores em linhas, instâncias do conjunto de dados em colunas\n",
        "data_transposed_generico = data_matrix_generico.T\n",
        "data_transposed_conservador = data_matrix_conservador.T\n",
        "data_transposed_moderado = data_matrix_moderado.T\n",
        "data_transposed_arrojado = data_matrix_arrojado.T"
      ]
    },
    {
      "cell_type": "code",
      "execution_count": null,
      "id": "IkPQY83rC45p",
      "metadata": {
        "colab": {
          "base_uri": "https://localhost:8080/"
        },
        "id": "IkPQY83rC45p",
        "outputId": "f4f0057c-96ec-4037-d580-3545c85f6aef"
      },
      "outputs": [
        {
          "name": "stdout",
          "output_type": "stream",
          "text": [
            "Krippendorff's α das anotações do perfil de investidor genérico: 0.9511757952114932\n",
            "Krippendorff's α das anotações do perfil de investidor conservador: 0.9195218939464507\n",
            "Krippendorff's α das anotações do perfil de investidor moderado: 0.9407557930472031\n",
            "Krippendorff's α das anotações do perfil de investidor arrojado: 0.9140862094473124\n"
          ]
        }
      ],
      "source": [
        "# Calculando os Krippendorff's α para dados nominais\n",
        "alpha_pefil_generico = krippendorff.alpha(reliability_data=data_transposed_generico, level_of_measurement='nominal')\n",
        "alpha_pefil_conservador = krippendorff.alpha(reliability_data=data_transposed_conservador, level_of_measurement='nominal')\n",
        "alpha_pefil_moderado = krippendorff.alpha(reliability_data=data_transposed_moderado, level_of_measurement='nominal')\n",
        "alpha_pefil_arrojado = krippendorff.alpha(reliability_data=data_transposed_arrojado, level_of_measurement='nominal')\n",
        "\n",
        "print(f\"Krippendorff's α das anotações do perfil de investidor genérico: {alpha_pefil_generico}\")\n",
        "print(f\"Krippendorff's α das anotações do perfil de investidor conservador: {alpha_pefil_conservador}\")\n",
        "print(f\"Krippendorff's α das anotações do perfil de investidor moderado: {alpha_pefil_moderado}\")\n",
        "print(f\"Krippendorff's α das anotações do perfil de investidor arrojado: {alpha_pefil_arrojado}\")"
      ]
    },
    {
      "cell_type": "code",
      "execution_count": null,
      "id": "8aed0da2-39d2-452a-a3f6-ea20998cbf8c",
      "metadata": {
        "id": "8aed0da2-39d2-452a-a3f6-ea20998cbf8c",
        "trusted": true
      },
      "outputs": [],
      "source": [
        "data_generico.to_csv('krippendorff_alpha_generico.csv', index=False)\n",
        "data_conservador.to_csv('krippendorff_alpha_conservador.csv', index=False)\n",
        "data_moderado.to_csv('krippendorff_alpha_moderado.csv', index=False)\n",
        "data_arrojado.to_csv('krippendorff_alpha_arrojado.csv', index=False)"
      ]
    }
  ],
  "metadata": {
    "colab": {
      "provenance": []
    },
    "environment": {
      "kernel": "conda-base-py",
      "name": "workbench-notebooks.m120",
      "type": "gcloud",
      "uri": "us-docker.pkg.dev/deeplearning-platform-release/gcr.io/workbench-notebooks:m120"
    },
    "kernelspec": {
      "display_name": "Python (Pyodide)",
      "language": "python",
      "name": "python"
    },
    "language_info": {
      "codemirror_mode": {
        "name": "python",
        "version": 3
      },
      "file_extension": ".py",
      "mimetype": "text/x-python",
      "name": "python",
      "nbconvert_exporter": "python",
      "pygments_lexer": "ipython3",
      "version": "3.8"
    }
  },
  "nbformat": 4,
  "nbformat_minor": 5
}
