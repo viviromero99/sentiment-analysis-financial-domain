{
  "cells": [
    {
      "cell_type": "code",
      "execution_count": null,
      "id": "6c36b836-247a-4b11-9256-d70b22eb841e",
      "metadata": {
        "tags": [],
        "trusted": true
      },
      "outputs": [],
      "source": [
        "import pandas as pd\n",
        "from statsmodels.stats.inter_rater import fleiss_kappa"
      ]
    },
    {
      "cell_type": "code",
      "execution_count": 2,
      "id": "81752792-7731-4416-a02c-65f0a40957f3",
      "metadata": {
        "tags": [],
        "trusted": true
      },
      "outputs": [],
      "source": [
        "data = pd.read_csv('ML-ESG-2_English_responses_pos_neg_all_investors_with_label_all_media_res.csv')"
      ]
    },
    {
      "cell_type": "code",
      "execution_count": 3,
      "id": "f1b26414-7bfb-40ae-a2a8-a14107cddc6e",
      "metadata": {
        "tags": [],
        "trusted": true
      },
      "outputs": [],
      "source": [
        "labels = ['positive', 'negative']"
      ]
    },
    {
      "cell_type": "code",
      "execution_count": 4,
      "id": "59d393a3-9425-47e2-a047-c425d5b5e333",
      "metadata": {
        "trusted": true
      },
      "outputs": [],
      "source": [
        "data = data.drop(columns=['text','label'])"
      ]
    },
    {
      "cell_type": "code",
      "execution_count": 5,
      "id": "3e731c48-66da-47f8-a74c-f80d4d577eef",
      "metadata": {
        "trusted": true
      },
      "outputs": [],
      "source": [
        "frequency_table = pd.DataFrame(0, index=data.index, columns=labels)"
      ]
    },
    {
      "cell_type": "code",
      "execution_count": 6,
      "id": "7b045f08-9d10-4d18-8912-d63ab05618de",
      "metadata": {
        "trusted": true
      },
      "outputs": [],
      "source": [
        "# Conta ocorrencias de cada categoria para cada instancia e avaliador\n",
        "for index, row in data.iterrows():\n",
        "    for label in row:\n",
        "        if label in labels:\n",
        "            frequency_table.loc[index, label] += 1"
      ]
    },
    {
      "cell_type": "code",
      "execution_count": 7,
      "id": "4a26b9b6-fce9-4b88-bdf9-7a682fc82de0",
      "metadata": {
        "trusted": true
      },
      "outputs": [],
      "source": [
        "frequency_table.to_csv('fleiss_kappa_perfis.csv', index=False)"
      ]
    },
    {
      "cell_type": "code",
      "execution_count": 8,
      "id": "98ea837f-e10a-4870-ba70-1dcae8f3d378",
      "metadata": {
        "trusted": true
      },
      "outputs": [
        {
          "name": "stdout",
          "output_type": "stream",
          "text": [
            "      positive  negative\n",
            "0            4         0\n",
            "1            4         0\n",
            "2            4         0\n",
            "3            2         2\n",
            "4            4         0\n",
            "...        ...       ...\n",
            "1020         4         0\n",
            "1021         4         0\n",
            "1022         4         0\n",
            "1023         4         0\n",
            "1024         4         0\n",
            "\n",
            "[1025 rows x 2 columns]\n"
          ]
        }
      ],
      "source": [
        "print(frequency_table)"
      ]
    },
    {
      "cell_type": "code",
      "execution_count": 9,
      "id": "44fe51ac-3928-4c68-aa8a-29f8db303f75",
      "metadata": {
        "trusted": true
      },
      "outputs": [],
      "source": [
        "# Converte para NumPy array para ser calculado o Kappa de Fleiss\n",
        "numerical_data = frequency_table.values\n"
      ]
    },
    {
      "cell_type": "code",
      "execution_count": 10,
      "id": "f13e81d9-6176-4ef9-a29d-753e11348fee",
      "metadata": {
        "trusted": true
      },
      "outputs": [
        {
          "name": "stdout",
          "output_type": "stream",
          "text": [
            "[[4 0]\n",
            " [4 0]\n",
            " [4 0]\n",
            " ...\n",
            " [4 0]\n",
            " [4 0]\n",
            " [4 0]]\n"
          ]
        }
      ],
      "source": [
        "print(numerical_data)"
      ]
    },
    {
      "cell_type": "code",
      "execution_count": 11,
      "id": "22302e15-c47c-4dee-9794-abd5a58dc1f7",
      "metadata": {
        "trusted": true
      },
      "outputs": [
        {
          "name": "stdout",
          "output_type": "stream",
          "text": [
            "Fleiss' Kappa: 0.9513430884507217\n"
          ]
        }
      ],
      "source": [
        "kappa = fleiss_kappa(numerical_data, method='fleiss')\n",
        "print(\"Fleiss' Kappa:\", kappa)"
      ]
    },
    {
      "cell_type": "code",
      "execution_count": null,
      "id": "e7267149-1776-478e-90cb-c493a612d8d9",
      "metadata": {
        "trusted": true
      },
      "outputs": [],
      "source": []
    }
  ],
  "metadata": {
    "environment": {
      "kernel": "conda-base-py",
      "name": "workbench-notebooks.m120",
      "type": "gcloud",
      "uri": "us-docker.pkg.dev/deeplearning-platform-release/gcr.io/workbench-notebooks:m120"
    },
    "kernelspec": {
      "display_name": "Python (Pyodide)",
      "language": "python",
      "name": "python"
    },
    "language_info": {
      "codemirror_mode": {
        "name": "python",
        "version": 3
      },
      "file_extension": ".py",
      "mimetype": "text/x-python",
      "name": "python",
      "nbconvert_exporter": "python",
      "pygments_lexer": "ipython3",
      "version": "3.8"
    }
  },
  "nbformat": 4,
  "nbformat_minor": 5
}
